{
  "nbformat": 4,
  "nbformat_minor": 0,
  "metadata": {
    "colab": {
      "name": "countdots.ipynb",
      "provenance": [],
      "authorship_tag": "ABX9TyP2TWagStw1l8pOERTJbJ7V",
      "include_colab_link": true
    },
    "kernelspec": {
      "name": "python3",
      "display_name": "Python 3"
    },
    "language_info": {
      "name": "python"
    }
  },
  "cells": [
    {
      "cell_type": "markdown",
      "metadata": {
        "id": "view-in-github",
        "colab_type": "text"
      },
      "source": [
        "<a href=\"https://colab.research.google.com/github/AbhinavAnand2001/AbhinavAnand2001/blob/main/countdots.ipynb\" target=\"_parent\"><img src=\"https://colab.research.google.com/assets/colab-badge.svg\" alt=\"Open In Colab\"/></a>"
      ]
    },
    {
      "cell_type": "code",
      "execution_count": 3,
      "metadata": {
        "colab": {
          "base_uri": "https://localhost:8080/"
        },
        "id": "UTpersCmmWBw",
        "outputId": "213b1c50-8dca-422e-b09e-b7adc62f2277"
      },
      "outputs": [
        {
          "output_type": "stream",
          "name": "stdout",
          "text": [
            "\n",
            "Dots number: 23\n"
          ]
        }
      ],
      "source": [
        "import cv2\n",
        "path =\"black-dot1.jpg\"\n",
        "\n",
        "# reading the image in grayscale mode\n",
        "gray = cv2.imread(path, 0)\n",
        "\n",
        "# threshold\n",
        "th, threshed = cv2.threshold(gray, 100, 255,\n",
        "\t\tcv2.THRESH_BINARY|cv2.THRESH_OTSU)\n",
        "\n",
        "# findcontours\n",
        "cnts = cv2.findContours(threshed, cv2.RETR_LIST,\n",
        "\t\t\t\t\tcv2.CHAIN_APPROX_SIMPLE)[-2]\n",
        "\n",
        "# filter by area\n",
        "s1 = 3\n",
        "s2 = 20\n",
        "xcnts = []\n",
        "\n",
        "for cnt in cnts:\n",
        "\tif s1<cv2.contourArea(cnt) <s2:\n",
        "\t\txcnts.append(cnt)\n",
        "\n",
        "# printing output\n",
        "print(\"\\nDots number: {}\".format(len(xcnts)))\n"
      ]
    }
  ]
}